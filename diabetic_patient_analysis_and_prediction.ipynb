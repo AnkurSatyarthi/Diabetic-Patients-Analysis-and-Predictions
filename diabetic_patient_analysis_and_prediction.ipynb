{
 "cells": [
  {
   "cell_type": "markdown",
   "metadata": {},
   "source": [
    "# Diabetic Patient Analysis and Predictions"
   ]
  },
  {
   "cell_type": "code",
   "execution_count": 1,
   "metadata": {},
   "outputs": [
    {
     "name": "stderr",
     "output_type": "stream",
     "text": [
      "2022-12-03 20:15:54.875068: I tensorflow/core/platform/cpu_feature_guard.cc:193] This TensorFlow binary is optimized with oneAPI Deep Neural Network Library (oneDNN) to use the following CPU instructions in performance-critical operations:  AVX2 FMA\n",
      "To enable them in other operations, rebuild TensorFlow with the appropriate compiler flags.\n",
      "2022-12-03 20:16:04.465402: W tensorflow/stream_executor/platform/default/dso_loader.cc:64] Could not load dynamic library 'libcudart.so.11.0'; dlerror: libcudart.so.11.0: cannot open shared object file: No such file or directory\n",
      "2022-12-03 20:16:04.465490: I tensorflow/stream_executor/cuda/cudart_stub.cc:29] Ignore above cudart dlerror if you do not have a GPU set up on your machine.\n",
      "2022-12-03 20:16:05.327796: E tensorflow/stream_executor/cuda/cuda_blas.cc:2981] Unable to register cuBLAS factory: Attempting to register factory for plugin cuBLAS when one has already been registered\n"
     ]
    }
   ],
   "source": [
    "import pandas as pd\n",
    "import os\n",
    "import tensorflow as tf\n",
    "from sklearn import preprocessing\n",
    "from sklearn.model_selection import train_test_split\n",
    "\n",
    "#load the data file into Pandas DataFrame\n",
    "diabetes = pd.read_csv('data/diabetes.csv')\n",
    "\n",
    "# Explore the data loaded\n",
    "print(diabetes.dtypes)\n",
    "diabetes.head()\n",
    "\n",
    "label_encoder = preprocessing.LabelEncoder()\n",
    "diabetes['Outcome'] = label_encoder.fit_transform(\n",
    "                        diabetes['Outcome'])\n",
    "\n",
    "# Convert Pandas DataFrame to a numpy vector\n",
    "np_diabetes = diabetes.to_numpy().astype(float)\n",
    "\n",
    "# Extract the feature variables (X)\n",
    "x = np_diabetes[:,1:9]\n",
    "x\n",
    "\n",
    "# Extract the target variable (Y), convert to one-hot-encoding\n",
    "y = np_diabetes[:,8]\n",
    "y = tf.keras.utils.to_categorical(y, 2)\n",
    "\n",
    "# Split training and test data\n",
    "x_train, x_test, y_train, y_test = train_test_split(x, y, test_size=0.10)\n",
    "\n",
    "print(\"Shape of feature variables :\", x_train.shape)\n",
    "print(\"Shape of target variables :\", y_train.shape)"
   ]
  },
  {
   "cell_type": "code",
   "execution_count": null,
   "metadata": {},
   "outputs": [],
   "source": [
    "from tensorflow import keras\n",
    "from tensorflow.keras import optimizers\n",
    "from tensorflow.keras.regularizers import l2\n",
    "\n",
    "# Setup Training Parameters\n",
    "EPOCHS=20\n",
    "BATCH_SIZE=128\n",
    "VERBOSE=1\n",
    "OUTPUT_CLASSES=len(label_encoder.classes_)\n",
    "N_HIDDEN=256\n",
    "VALIDATION_SPLIT=0.2\n",
    "\n",
    "# Create a Keras sequential model\n",
    "diabetes_model = tf.keras.models.Sequential()\n",
    "\n",
    "\n",
    "# Add a Dense Layer\n",
    "diabetes_model.add(keras.layers.Dense(N_HIDDEN,\n",
    "                                input_shape=(8,),\n",
    "                                name='Dense-Layer-1',\n",
    "                                activation='relu'))\n",
    "\n",
    "# Add a second dense layer\n",
    "diabetes_model.add(keras.layers.Dense(N_HIDDEN,\n",
    "                                name='Dense-Layer-2',\n",
    "                                activation='relu'))\n",
    "\n",
    "# Add a third dense layer\n",
    "diabetes_model.add(keras.layers.Dense(N_HIDDEN,\n",
    "                                name='Dense-Layer-3',\n",
    "                                activation='relu'))\n",
    "\n",
    "# Add a fourth dense layer\n",
    "diabetes_model.add(keras.layers.Dense(N_HIDDEN,\n",
    "                                name='Dense-Layer-4',\n",
    "                                activation='relu'))\n",
    "\n",
    "# # Add a fifth dense layer\n",
    "# diabetes_model.add(keras.layers.Dense(N_HIDDEN,\n",
    "#                                 name='Dense-Layer-5',\n",
    "#                                 activation='relu'))\n",
    "\n",
    "# # Add a sixth dense layer\n",
    "# diabetes_model.add(keras.layers.Dense(N_HIDDEN,\n",
    "#                                 name='Dense-Layer-6',\n",
    "#                                 activation='relu'))\n",
    "\n",
    "# Add a softmax layer for categorical prediction\n",
    "diabetes_model.add(keras.layers.Dense(OUTPUT_CLASSES,\n",
    "                                name='Final',\n",
    "                                activation='softmax'))\n",
    "\n",
    "# Compile the model\n",
    "diabetes_model.compile(\n",
    "                        loss='categorical_crossentropy',\n",
    "                        metrics=['accuracy'])\n",
    "\n",
    "diabetes_model.summary()\n",
    "\n",
    "# Build the model\n",
    "diabetes_model.fit(x_train,\n",
    "                    y_train,\n",
    "                    batch_size=BATCH_SIZE,\n",
    "                    epochs=EPOCHS,\n",
    "                    verbose=VERBOSE,\n",
    "                    validation_split=VALIDATION_SPLIT)\n",
    "\n",
    "# Evaluate the model against the test datasetand print resullts\n",
    "print(\"\\nEvaluation against Test Datase :\\n--------------------------------------\")\n",
    "diabetes_model.evaluate(x_test, y_test)"
   ]
  },
  {
   "cell_type": "code",
   "execution_count": null,
   "metadata": {},
   "outputs": [],
   "source": [
    "# Pass individual patient to Predict either he/she have diabetese or not ?\n",
    "import numpy as np\n",
    "\n",
    "Pregnancies=10\n",
    "Glucose=101\n",
    "BloodPressure=76\n",
    "SkinThickness=48\n",
    "Insulin=180\n",
    "BMI=32.9\n",
    "DiabetesPedigreeFunction=0.171\n",
    "Age=63\n",
    "prediction=np.argmax(diabetes_model.predict([[Pregnancies,Glucose,BloodPressure,SkinThickness,Insulin,BMI,DiabetesPedigreeFunction,Age]]), axis=1)\n",
    "# print(label_encoder.inverse_transform(prediction)==True)\n",
    "print(label_encoder.inverse_transform(prediction))"
   ]
  },
  {
   "cell_type": "code",
   "execution_count": null,
   "metadata": {},
   "outputs": [],
   "source": []
  }
 ],
 "metadata": {
  "kernelspec": {
   "display_name": "Python 3.10.4 ('deep_learning')",
   "language": "python",
   "name": "python3"
  },
  "language_info": {
   "codemirror_mode": {
    "name": "ipython",
    "version": 3
   },
   "file_extension": ".py",
   "mimetype": "text/x-python",
   "name": "python",
   "nbconvert_exporter": "python",
   "pygments_lexer": "ipython3",
   "version": "3.10.4"
  },
  "orig_nbformat": 4,
  "vscode": {
   "interpreter": {
    "hash": "3b7280da05a75c96f949a2706eb9bb616f6fabc8d5a8f35c118d3936a4a8fc98"
   }
  }
 },
 "nbformat": 4,
 "nbformat_minor": 2
}
